{
 "cells": [
  {
   "cell_type": "markdown",
   "metadata": {},
   "source": [
    "# Switchboard Lab Notebook\n",
    "Follow the steps described in `change_request_lab.md`.\n",
    "\n",
    "```bash\n",
    "make dev\n",
    "python scripts/chaos/opa_outage.py\n",
    "python scripts/chaos/adapter_flap.py\n",
    "python scripts/chaos/db_outage.py\n",
    "make audit-verify\n",
    "```"
   ]
  }
 ],
 "metadata": {
  "kernelspec": {
   "display_name": "Python 3",
   "language": "python",
   "name": "python3"
  },
  "language_info": {
   "name": "python",
   "version": "3.11"
  }
 },
 "nbformat": 4,
 "nbformat_minor": 5
}
